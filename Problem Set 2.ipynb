{
 "cells": [
  {
   "cell_type": "markdown",
   "id": "36494e6e",
   "metadata": {},
   "source": [
    "# BDAT_1004_Problem Set 2_Khadija_Holder"
   ]
  },
  {
   "cell_type": "markdown",
   "id": "ee434b6c",
   "metadata": {},
   "source": [
    "# Question 1"
   ]
  },
  {
   "cell_type": "code",
   "execution_count": 1,
   "id": "fb2c04ed",
   "metadata": {},
   "outputs": [
    {
     "name": "stdout",
     "output_type": "stream",
     "text": [
      "2\n",
      "4\n",
      "6\n",
      "6\n"
     ]
    }
   ],
   "source": [
    "a = 0\n",
    "\n",
    "def b():\n",
    "    global a\n",
    "    a = c(a)\n",
    "    return a\n",
    "\n",
    "def c(a):\n",
    "    return a + 2\n",
    "\n",
    "print (b())\n",
    "print (b())\n",
    "print (b())\n",
    "print (a)"
   ]
  },
  {
   "cell_type": "markdown",
   "id": "9bf593b1",
   "metadata": {},
   "source": [
    "# Question 2\n",
    "# Find file length and return error if file not found"
   ]
  },
  {
   "cell_type": "code",
   "execution_count": 2,
   "id": "c0054b36",
   "metadata": {},
   "outputs": [
    {
     "name": "stdout",
     "output_type": "stream",
     "text": [
      "5\n"
     ]
    },
    {
     "data": {
      "text/plain": [
       "'file idterm.py not found.'"
      ]
     },
     "execution_count": 2,
     "metadata": {},
     "output_type": "execute_result"
    }
   ],
   "source": [
    "def fileLength(fname):\n",
    "    try:\n",
    "        #open text file in read mode\n",
    "        text_file = open(fname,\"r\")\n",
    "        print(len(text_file.readlines()))\n",
    "    \n",
    "    except:\n",
    "        return \"file \"+ fname + \" not found.\"\n",
    "\n",
    "fileLength('midterm.py')\n",
    "\n",
    "fileLength('idterm.py')\n",
    "\n"
   ]
  },
  {
   "cell_type": "markdown",
   "id": "9a873fa7",
   "metadata": {},
   "source": [
    "# Question 3a\n",
    "# Create class Marsupial "
   ]
  },
  {
   "cell_type": "code",
   "execution_count": 3,
   "id": "2cf84449",
   "metadata": {},
   "outputs": [
    {
     "name": "stdout",
     "output_type": "stream",
     "text": [
      "['doll', 'firetruck', 'kitten']\n"
     ]
    }
   ],
   "source": [
    "class Marsupial:\n",
    "\n",
    "#define the properties and assign none value       \n",
    "#define the initialiser method\n",
    "\n",
    "    def __init__(self):\n",
    "            self.pouch = [] \n",
    "            \n",
    "    def put_in_pouch(self, value):\n",
    "        self.pouch.append(value) \n",
    "        \n",
    "    def pouch_contents(self):\n",
    "             \n",
    "        print(self.pouch)\n",
    "      \n",
    "        \n",
    "      \n",
    "        \n",
    "\n",
    "#Instance method\n",
    "m = Marsupial() \n",
    "\n",
    "m.put_in_pouch('doll') \n",
    "m.put_in_pouch('firetruck') \n",
    "m.put_in_pouch('kitten') \n",
    "m.pouch_contents()"
   ]
  },
  {
   "cell_type": "markdown",
   "id": "227fa222",
   "metadata": {},
   "source": [
    "# Question 3b\n",
    "# Create subclass Kangaroo"
   ]
  },
  {
   "cell_type": "code",
   "execution_count": 4,
   "id": "f2ff2c32",
   "metadata": {},
   "outputs": [
    {
     "name": "stdout",
     "output_type": "stream",
     "text": [
      "I am a Kangaroo located at coordinates (0,0)\n",
      "['doll', 'firetruck', 'kitten']\n",
      "I am a Kangaroo located at coordinates (3,0)\n"
     ]
    }
   ],
   "source": [
    "class Kangaroo(Marsupial):\n",
    "\n",
    "    def __init__(self,x,y):\n",
    "        super().__init__()\n",
    "        self.x = x\n",
    "        self.y = y\n",
    "        \n",
    "  \n",
    "    def jump(self,dx,dy):\n",
    "        self.x = self.x + dx\n",
    "        self.y = self.y + dy\n",
    "        \n",
    "        \n",
    "    def  __str__(self):\n",
    "         return (\"I am a Kangaroo located at coordinates (\"+str(self.x)+\",\"+str(self.y)+\")\")\n",
    "        \n",
    "k = Kangaroo(0,0)\n",
    "print(k)\n",
    "k.put_in_pouch('doll')\n",
    "k.put_in_pouch('firetruck')\n",
    "k.put_in_pouch('kitten')\n",
    "k.pouch_contents()\n",
    "k.jump(1,0)\n",
    "k.jump(1,0)\n",
    "k.jump(1,0)\n",
    "print(k)"
   ]
  },
  {
   "cell_type": "markdown",
   "id": "c0a819c1",
   "metadata": {},
   "source": [
    "# Question 4\n",
    "# Function to use Collatz sequence"
   ]
  },
  {
   "cell_type": "code",
   "execution_count": 5,
   "id": "d6d29965",
   "metadata": {},
   "outputs": [
    {
     "name": "stdout",
     "output_type": "stream",
     "text": [
      "The Collatz sequence is:\n",
      "1\n",
      "The Collatz sequence is:\n",
      "10 5 16 8 4 2 1\n"
     ]
    }
   ],
   "source": [
    "def Collatz(n):\n",
    "\n",
    "    print(\"The Collatz sequence is:\")\n",
    "# while n is not equal to 1\n",
    "    while n != 1:\n",
    "        print(n, end = ' ')\n",
    "\n",
    "# If n is an odd number\n",
    "        if n & 1:\n",
    "            n = (3 * n)+ 1\n",
    "\n",
    "# If n is an even number\n",
    "        else:\n",
    "            n = n // 2\n",
    "\n",
    "    \n",
    "    print(n)\n",
    "\n",
    "# Driver code\n",
    "Collatz(1)\n",
    "Collatz(10)\n",
    "\n"
   ]
  },
  {
   "cell_type": "markdown",
   "id": "c85d58a2",
   "metadata": {},
   "source": [
    "# Question 5\n",
    "# Decimal to binary conversion using recursion"
   ]
  },
  {
   "cell_type": "code",
   "execution_count": 6,
   "id": "beebc5b1",
   "metadata": {},
   "outputs": [
    {
     "name": "stdout",
     "output_type": "stream",
     "text": [
      "The binary conversion of the decimal numbers are:\n",
      "0\n",
      "1\n",
      "11\n",
      "1001\n"
     ]
    }
   ],
   "source": [
    "def find( decimal_number ):\n",
    "    if decimal_number == 0:\n",
    "        return 0\n",
    "    else:\n",
    "        return (decimal_number % 2 + 10 *\n",
    "                find(int(decimal_number // 2)))\n",
    "\n",
    "# Driver Code\n",
    "print(\"The binary conversion of the decimal numbers are:\")\n",
    "decimal_number = 0\n",
    "print(find(decimal_number))\n",
    "\n",
    "\n",
    "decimal_number = 1\n",
    "print(find(decimal_number))\n",
    "\n",
    "decimal_number = 3\n",
    "print(find(decimal_number))\n",
    "\n",
    "decimal_number = 9\n",
    "print(find(decimal_number))"
   ]
  },
  {
   "cell_type": "markdown",
   "id": "0cf77442",
   "metadata": {},
   "source": [
    "# Question 6\n",
    "# Parse an HTML document"
   ]
  },
  {
   "cell_type": "code",
   "execution_count": 7,
   "id": "cc6f125f",
   "metadata": {},
   "outputs": [
    {
     "name": "stdout",
     "output_type": "stream",
     "text": [
      "W3C Mission\n",
      "\n",
      "\t\n",
      " Principles\n",
      " \n",
      " \n",
      "\n",
      "\n",
      "\n",
      " \n",
      "\n"
     ]
    }
   ],
   "source": [
    "import re\n",
    "from html.parser import HTMLParser\n",
    "infile = open('w3c.html')\n",
    "content = infile.read()\n",
    "infile.close()\n",
    "\n",
    "\n",
    "class HeadingParser(HTMLParser):\n",
    "    def handle_starttag(self, tag, attrs):\n",
    "        global getHeading\n",
    "        match = re.match(r'h(\\d)', tag, re.I)\n",
    "        if match: getHeading = int(match.group(1))\n",
    "            \n",
    "    def handle_endtag(self, tag):\n",
    "        match = re.match(r'h(\\d)', tag, re.I)\n",
    "        if match: getHeading = 0\n",
    "\n",
    "\n",
    "    def handle_data(self, data):\n",
    "        if getHeading > 0:\n",
    "            tab = getHeading - 1\n",
    "            out = \" \"*tab\n",
    "            print(out+data)\n",
    "            \n",
    "getHeading = 0\n",
    "hp = HeadingParser()\n",
    "hp.feed(content)"
   ]
  },
  {
   "cell_type": "markdown",
   "id": "788961d7",
   "metadata": {},
   "source": [
    "# Question 7\n",
    "# Implement recursive function\n",
    "#(Note: URL returns an HTTP Status 404 – Not Found Error)"
   ]
  },
  {
   "cell_type": "code",
   "execution_count": null,
   "id": "371c2263",
   "metadata": {},
   "outputs": [],
   "source": [
    "from bs4 import BeautifulSoup\n",
    "import requests\n",
    "\n",
    "urls=[\"one.html\"]\n",
    "\n",
    "site = \"http://reed.cs.depaul.edu/lperkovic/csc242/test1.html\"\n",
    "url = 'one.html'\n",
    "x = 0\n",
    "def webdir(url,depth):\n",
    "        r = requests.get (site+url)\n",
    "\n",
    "        s = BeautifulSoup (r.text, \"html.parser\")\n",
    "        for i in  s.find_all (\"a\"):\n",
    "            global x\n",
    "            if x < depth:\n",
    "                x = x+1\n",
    "                url = i.attrs['href']\n",
    "                urls.append(url)\n",
    "                webdir(url,depth)\n",
    "            x = 0\n",
    "webdir(url,2)"
   ]
  },
  {
   "cell_type": "markdown",
   "id": "f2122f01",
   "metadata": {},
   "source": [
    "# Question 8\n",
    "# Write SQL queries on the below database table"
   ]
  },
  {
   "cell_type": "markdown",
   "id": "2613a536",
   "metadata": {},
   "source": [
    "# Load SQL and Create table "
   ]
  },
  {
   "cell_type": "code",
   "execution_count": 9,
   "id": "bf8b2102",
   "metadata": {},
   "outputs": [],
   "source": [
    "%load_ext sql\n",
    "%sql sqlite:///WeatherData_CitySamples.db"
   ]
  },
  {
   "cell_type": "code",
   "execution_count": 10,
   "id": "c37ad1d5",
   "metadata": {},
   "outputs": [
    {
     "name": "stdout",
     "output_type": "stream",
     "text": [
      " * sqlite:///WeatherData_CitySamples.db\n",
      "Done.\n"
     ]
    },
    {
     "data": {
      "text/plain": [
       "[]"
      ]
     },
     "execution_count": 10,
     "metadata": {},
     "output_type": "execute_result"
    }
   ],
   "source": [
    "%%sql\n",
    "create table CityWeatherSampleData(City varchar(20), Country varchar(20), Season varchar(20), Temperature float(5), Rainfall varchar(20))"
   ]
  },
  {
   "cell_type": "markdown",
   "id": "4272dc00",
   "metadata": {},
   "source": [
    "# Insert 1st row data"
   ]
  },
  {
   "cell_type": "code",
   "execution_count": 11,
   "id": "10d6e56e",
   "metadata": {},
   "outputs": [
    {
     "name": "stdout",
     "output_type": "stream",
     "text": [
      " * sqlite:///WeatherData_CitySamples.db\n",
      "1 rows affected.\n"
     ]
    },
    {
     "data": {
      "text/plain": [
       "[]"
      ]
     },
     "execution_count": 11,
     "metadata": {},
     "output_type": "execute_result"
    }
   ],
   "source": [
    "%%sql\n",
    "insert into CityWeatherSampleData values('Mumbai','India','Winter','24.8','5.9');"
   ]
  },
  {
   "cell_type": "markdown",
   "id": "b190d39c",
   "metadata": {},
   "source": [
    "# Insert rest of data"
   ]
  },
  {
   "cell_type": "code",
   "execution_count": 12,
   "id": "7efda4e4",
   "metadata": {},
   "outputs": [
    {
     "name": "stdout",
     "output_type": "stream",
     "text": [
      " * sqlite:///WeatherData_CitySamples.db\n",
      "Done.\n"
     ]
    },
    {
     "data": {
      "text/html": [
       "<table>\n",
       "    <tr>\n",
       "        <th>City</th>\n",
       "        <th>Country</th>\n",
       "        <th>Season</th>\n",
       "        <th>Temperature</th>\n",
       "        <th>Rainfall</th>\n",
       "    </tr>\n",
       "    <tr>\n",
       "        <td>Mumbai</td>\n",
       "        <td>India</td>\n",
       "        <td>Winter</td>\n",
       "        <td>24.8</td>\n",
       "        <td>5.9</td>\n",
       "    </tr>\n",
       "</table>"
      ],
      "text/plain": [
       "[('Mumbai', 'India', 'Winter', 24.8, '5.9')]"
      ]
     },
     "execution_count": 12,
     "metadata": {},
     "output_type": "execute_result"
    }
   ],
   "source": [
    "%%sql\n",
    "select * from CityWeatherSampleData"
   ]
  },
  {
   "cell_type": "code",
   "execution_count": 13,
   "id": "aea60633",
   "metadata": {},
   "outputs": [
    {
     "name": "stdout",
     "output_type": "stream",
     "text": [
      " * sqlite:///WeatherData_CitySamples.db\n",
      "1 rows affected.\n",
      "1 rows affected.\n",
      "1 rows affected.\n",
      "1 rows affected.\n",
      "1 rows affected.\n",
      "1 rows affected.\n",
      "1 rows affected.\n",
      "1 rows affected.\n",
      "1 rows affected.\n",
      "1 rows affected.\n",
      "1 rows affected.\n"
     ]
    },
    {
     "data": {
      "text/plain": [
       "[]"
      ]
     },
     "execution_count": 13,
     "metadata": {},
     "output_type": "execute_result"
    }
   ],
   "source": [
    "%%sql\n",
    "insert into CityWeatherSampleData values('Mumbai','India','Spring','28.4','16.2');\n",
    "insert into CityWeatherSampleData values('Mumbai','India','Summer','27.9','1549.4');\n",
    "insert into CityWeatherSampleData values('Mumbai','India','Fall','27.6','346.0');\n",
    "insert into CityWeatherSampleData values('London','United Kingdom','Winter','4.2','207.7');\n",
    "insert into CityWeatherSampleData values('London','United Kingdom','Spring','8.3','169.6');\n",
    "insert into CityWeatherSampleData values('London','United Kingdom','Summer','15.7','157.0');\n",
    "insert into CityWeatherSampleData values('London','United Kingdom','Fall','10.4','218.5');\n",
    "insert into CityWeatherSampleData values('Cairo','Egypt','Winter','13.6','16.5');\n",
    "insert into CityWeatherSampleData values('Cairo','Egypt','Spring','20.7','6.5');\n",
    "insert into CityWeatherSampleData values('Cairo','Egypt','Summer','27.7','0.1');\n",
    "insert into CityWeatherSampleData values('Cairo','Egypt','Fall','22.2','4.5');\n"
   ]
  },
  {
   "cell_type": "markdown",
   "id": "5e29dec3",
   "metadata": {},
   "source": [
    "# Display database table"
   ]
  },
  {
   "cell_type": "code",
   "execution_count": 14,
   "id": "0ba66a81",
   "metadata": {
    "scrolled": true
   },
   "outputs": [
    {
     "name": "stdout",
     "output_type": "stream",
     "text": [
      " * sqlite:///WeatherData_CitySamples.db\n",
      "Done.\n"
     ]
    },
    {
     "data": {
      "text/html": [
       "<table>\n",
       "    <tr>\n",
       "        <th>City</th>\n",
       "        <th>Country</th>\n",
       "        <th>Season</th>\n",
       "        <th>Temperature</th>\n",
       "        <th>Rainfall</th>\n",
       "    </tr>\n",
       "    <tr>\n",
       "        <td>Mumbai</td>\n",
       "        <td>India</td>\n",
       "        <td>Winter</td>\n",
       "        <td>24.8</td>\n",
       "        <td>5.9</td>\n",
       "    </tr>\n",
       "    <tr>\n",
       "        <td>Mumbai</td>\n",
       "        <td>India</td>\n",
       "        <td>Spring</td>\n",
       "        <td>28.4</td>\n",
       "        <td>16.2</td>\n",
       "    </tr>\n",
       "    <tr>\n",
       "        <td>Mumbai</td>\n",
       "        <td>India</td>\n",
       "        <td>Summer</td>\n",
       "        <td>27.9</td>\n",
       "        <td>1549.4</td>\n",
       "    </tr>\n",
       "    <tr>\n",
       "        <td>Mumbai</td>\n",
       "        <td>India</td>\n",
       "        <td>Fall</td>\n",
       "        <td>27.6</td>\n",
       "        <td>346.0</td>\n",
       "    </tr>\n",
       "    <tr>\n",
       "        <td>London</td>\n",
       "        <td>United Kingdom</td>\n",
       "        <td>Winter</td>\n",
       "        <td>4.2</td>\n",
       "        <td>207.7</td>\n",
       "    </tr>\n",
       "    <tr>\n",
       "        <td>London</td>\n",
       "        <td>United Kingdom</td>\n",
       "        <td>Spring</td>\n",
       "        <td>8.3</td>\n",
       "        <td>169.6</td>\n",
       "    </tr>\n",
       "    <tr>\n",
       "        <td>London</td>\n",
       "        <td>United Kingdom</td>\n",
       "        <td>Summer</td>\n",
       "        <td>15.7</td>\n",
       "        <td>157.0</td>\n",
       "    </tr>\n",
       "    <tr>\n",
       "        <td>London</td>\n",
       "        <td>United Kingdom</td>\n",
       "        <td>Fall</td>\n",
       "        <td>10.4</td>\n",
       "        <td>218.5</td>\n",
       "    </tr>\n",
       "    <tr>\n",
       "        <td>Cairo</td>\n",
       "        <td>Egypt</td>\n",
       "        <td>Winter</td>\n",
       "        <td>13.6</td>\n",
       "        <td>16.5</td>\n",
       "    </tr>\n",
       "    <tr>\n",
       "        <td>Cairo</td>\n",
       "        <td>Egypt</td>\n",
       "        <td>Spring</td>\n",
       "        <td>20.7</td>\n",
       "        <td>6.5</td>\n",
       "    </tr>\n",
       "    <tr>\n",
       "        <td>Cairo</td>\n",
       "        <td>Egypt</td>\n",
       "        <td>Summer</td>\n",
       "        <td>27.7</td>\n",
       "        <td>0.1</td>\n",
       "    </tr>\n",
       "    <tr>\n",
       "        <td>Cairo</td>\n",
       "        <td>Egypt</td>\n",
       "        <td>Fall</td>\n",
       "        <td>22.2</td>\n",
       "        <td>4.5</td>\n",
       "    </tr>\n",
       "</table>"
      ],
      "text/plain": [
       "[('Mumbai', 'India', 'Winter', 24.8, '5.9'),\n",
       " ('Mumbai', 'India', 'Spring', 28.4, '16.2'),\n",
       " ('Mumbai', 'India', 'Summer', 27.9, '1549.4'),\n",
       " ('Mumbai', 'India', 'Fall', 27.6, '346.0'),\n",
       " ('London', 'United Kingdom', 'Winter', 4.2, '207.7'),\n",
       " ('London', 'United Kingdom', 'Spring', 8.3, '169.6'),\n",
       " ('London', 'United Kingdom', 'Summer', 15.7, '157.0'),\n",
       " ('London', 'United Kingdom', 'Fall', 10.4, '218.5'),\n",
       " ('Cairo', 'Egypt', 'Winter', 13.6, '16.5'),\n",
       " ('Cairo', 'Egypt', 'Spring', 20.7, '6.5'),\n",
       " ('Cairo', 'Egypt', 'Summer', 27.7, '0.1'),\n",
       " ('Cairo', 'Egypt', 'Fall', 22.2, '4.5')]"
      ]
     },
     "execution_count": 14,
     "metadata": {},
     "output_type": "execute_result"
    }
   ],
   "source": [
    "%%sql\n",
    "select * from CityWeatherSampleData"
   ]
  },
  {
   "cell_type": "markdown",
   "id": "088429a0",
   "metadata": {},
   "source": [
    "# Question 8 a\n",
    "# All the temperature data"
   ]
  },
  {
   "cell_type": "code",
   "execution_count": 15,
   "id": "536bca4a",
   "metadata": {},
   "outputs": [
    {
     "name": "stdout",
     "output_type": "stream",
     "text": [
      " * sqlite:///WeatherData_CitySamples.db\n",
      "Done.\n"
     ]
    },
    {
     "data": {
      "text/html": [
       "<table>\n",
       "    <tr>\n",
       "        <th>Temperature</th>\n",
       "    </tr>\n",
       "    <tr>\n",
       "        <td>24.8</td>\n",
       "    </tr>\n",
       "    <tr>\n",
       "        <td>28.4</td>\n",
       "    </tr>\n",
       "    <tr>\n",
       "        <td>27.9</td>\n",
       "    </tr>\n",
       "    <tr>\n",
       "        <td>27.6</td>\n",
       "    </tr>\n",
       "    <tr>\n",
       "        <td>4.2</td>\n",
       "    </tr>\n",
       "    <tr>\n",
       "        <td>8.3</td>\n",
       "    </tr>\n",
       "    <tr>\n",
       "        <td>15.7</td>\n",
       "    </tr>\n",
       "    <tr>\n",
       "        <td>10.4</td>\n",
       "    </tr>\n",
       "    <tr>\n",
       "        <td>13.6</td>\n",
       "    </tr>\n",
       "    <tr>\n",
       "        <td>20.7</td>\n",
       "    </tr>\n",
       "    <tr>\n",
       "        <td>27.7</td>\n",
       "    </tr>\n",
       "    <tr>\n",
       "        <td>22.2</td>\n",
       "    </tr>\n",
       "</table>"
      ],
      "text/plain": [
       "[(24.8,),\n",
       " (28.4,),\n",
       " (27.9,),\n",
       " (27.6,),\n",
       " (4.2,),\n",
       " (8.3,),\n",
       " (15.7,),\n",
       " (10.4,),\n",
       " (13.6,),\n",
       " (20.7,),\n",
       " (27.7,),\n",
       " (22.2,)]"
      ]
     },
     "execution_count": 15,
     "metadata": {},
     "output_type": "execute_result"
    }
   ],
   "source": [
    "%%sql\n",
    "select Temperature\n",
    "from CityWeatherSampleData"
   ]
  },
  {
   "cell_type": "markdown",
   "id": "6a60d02b",
   "metadata": {},
   "source": [
    " # Question 8 b\n",
    " # All the cities, but without repetition"
   ]
  },
  {
   "cell_type": "code",
   "execution_count": 16,
   "id": "9dc73c8a",
   "metadata": {},
   "outputs": [
    {
     "name": "stdout",
     "output_type": "stream",
     "text": [
      " * sqlite:///WeatherData_CitySamples.db\n",
      "Done.\n"
     ]
    },
    {
     "data": {
      "text/html": [
       "<table>\n",
       "    <tr>\n",
       "        <th>City</th>\n",
       "    </tr>\n",
       "    <tr>\n",
       "        <td>Mumbai</td>\n",
       "    </tr>\n",
       "    <tr>\n",
       "        <td>London</td>\n",
       "    </tr>\n",
       "    <tr>\n",
       "        <td>Cairo</td>\n",
       "    </tr>\n",
       "</table>"
      ],
      "text/plain": [
       "[('Mumbai',), ('London',), ('Cairo',)]"
      ]
     },
     "execution_count": 16,
     "metadata": {},
     "output_type": "execute_result"
    }
   ],
   "source": [
    "%%sql\n",
    "select distinct City\n",
    "from CityWeatherSampleData"
   ]
  },
  {
   "cell_type": "markdown",
   "id": "1d87060f",
   "metadata": {},
   "source": [
    "# Question 8 c\n",
    "# All the records for India"
   ]
  },
  {
   "cell_type": "code",
   "execution_count": 17,
   "id": "2475ea25",
   "metadata": {},
   "outputs": [
    {
     "name": "stdout",
     "output_type": "stream",
     "text": [
      " * sqlite:///WeatherData_CitySamples.db\n",
      "Done.\n"
     ]
    },
    {
     "data": {
      "text/html": [
       "<table>\n",
       "    <tr>\n",
       "        <th>City</th>\n",
       "        <th>Country</th>\n",
       "        <th>Season</th>\n",
       "        <th>Temperature</th>\n",
       "        <th>Rainfall</th>\n",
       "    </tr>\n",
       "    <tr>\n",
       "        <td>Mumbai</td>\n",
       "        <td>India</td>\n",
       "        <td>Winter</td>\n",
       "        <td>24.8</td>\n",
       "        <td>5.9</td>\n",
       "    </tr>\n",
       "    <tr>\n",
       "        <td>Mumbai</td>\n",
       "        <td>India</td>\n",
       "        <td>Spring</td>\n",
       "        <td>28.4</td>\n",
       "        <td>16.2</td>\n",
       "    </tr>\n",
       "    <tr>\n",
       "        <td>Mumbai</td>\n",
       "        <td>India</td>\n",
       "        <td>Summer</td>\n",
       "        <td>27.9</td>\n",
       "        <td>1549.4</td>\n",
       "    </tr>\n",
       "    <tr>\n",
       "        <td>Mumbai</td>\n",
       "        <td>India</td>\n",
       "        <td>Fall</td>\n",
       "        <td>27.6</td>\n",
       "        <td>346.0</td>\n",
       "    </tr>\n",
       "</table>"
      ],
      "text/plain": [
       "[('Mumbai', 'India', 'Winter', 24.8, '5.9'),\n",
       " ('Mumbai', 'India', 'Spring', 28.4, '16.2'),\n",
       " ('Mumbai', 'India', 'Summer', 27.9, '1549.4'),\n",
       " ('Mumbai', 'India', 'Fall', 27.6, '346.0')]"
      ]
     },
     "execution_count": 17,
     "metadata": {},
     "output_type": "execute_result"
    }
   ],
   "source": [
    "%%sql\n",
    "select * \n",
    "from CityWeatherSampleData\n",
    "where Country='India'"
   ]
  },
  {
   "cell_type": "markdown",
   "id": "1f477c9c",
   "metadata": {},
   "source": [
    "# Question 8 d\n",
    "# All the Fall records"
   ]
  },
  {
   "cell_type": "code",
   "execution_count": 18,
   "id": "bc5ed31f",
   "metadata": {},
   "outputs": [
    {
     "name": "stdout",
     "output_type": "stream",
     "text": [
      " * sqlite:///WeatherData_CitySamples.db\n",
      "Done.\n"
     ]
    },
    {
     "data": {
      "text/html": [
       "<table>\n",
       "    <tr>\n",
       "        <th>City</th>\n",
       "        <th>Country</th>\n",
       "        <th>Season</th>\n",
       "        <th>Temperature</th>\n",
       "        <th>Rainfall</th>\n",
       "    </tr>\n",
       "    <tr>\n",
       "        <td>Mumbai</td>\n",
       "        <td>India</td>\n",
       "        <td>Fall</td>\n",
       "        <td>27.6</td>\n",
       "        <td>346.0</td>\n",
       "    </tr>\n",
       "    <tr>\n",
       "        <td>London</td>\n",
       "        <td>United Kingdom</td>\n",
       "        <td>Fall</td>\n",
       "        <td>10.4</td>\n",
       "        <td>218.5</td>\n",
       "    </tr>\n",
       "    <tr>\n",
       "        <td>Cairo</td>\n",
       "        <td>Egypt</td>\n",
       "        <td>Fall</td>\n",
       "        <td>22.2</td>\n",
       "        <td>4.5</td>\n",
       "    </tr>\n",
       "</table>"
      ],
      "text/plain": [
       "[('Mumbai', 'India', 'Fall', 27.6, '346.0'),\n",
       " ('London', 'United Kingdom', 'Fall', 10.4, '218.5'),\n",
       " ('Cairo', 'Egypt', 'Fall', 22.2, '4.5')]"
      ]
     },
     "execution_count": 18,
     "metadata": {},
     "output_type": "execute_result"
    }
   ],
   "source": [
    "%%sql\n",
    "select * \n",
    "from CityWeatherSampleData\n",
    "where Season='Fall'"
   ]
  },
  {
   "cell_type": "markdown",
   "id": "82451e1a",
   "metadata": {},
   "source": [
    "# Question 8 e\n",
    "# The city, country, and season for which the average rainfall is between 200 and 400 millimeters"
   ]
  },
  {
   "cell_type": "code",
   "execution_count": 19,
   "id": "8ecda161",
   "metadata": {},
   "outputs": [
    {
     "name": "stdout",
     "output_type": "stream",
     "text": [
      " * sqlite:///WeatherData_CitySamples.db\n",
      "Done.\n"
     ]
    },
    {
     "data": {
      "text/html": [
       "<table>\n",
       "    <tr>\n",
       "        <th>City</th>\n",
       "        <th>Country</th>\n",
       "        <th>Season</th>\n",
       "        <th>AVG(Rainfall)</th>\n",
       "    </tr>\n",
       "    <tr>\n",
       "        <td>London</td>\n",
       "        <td>United Kingdom</td>\n",
       "        <td>Winter</td>\n",
       "        <td>207.7</td>\n",
       "    </tr>\n",
       "    <tr>\n",
       "        <td>London</td>\n",
       "        <td>United Kingdom</td>\n",
       "        <td>Fall</td>\n",
       "        <td>218.5</td>\n",
       "    </tr>\n",
       "    <tr>\n",
       "        <td>Mumbai</td>\n",
       "        <td>India</td>\n",
       "        <td>Fall</td>\n",
       "        <td>346.0</td>\n",
       "    </tr>\n",
       "</table>"
      ],
      "text/plain": [
       "[('London', 'United Kingdom', 'Winter', 207.7),\n",
       " ('London', 'United Kingdom', 'Fall', 218.5),\n",
       " ('Mumbai', 'India', 'Fall', 346.0)]"
      ]
     },
     "execution_count": 19,
     "metadata": {},
     "output_type": "execute_result"
    }
   ],
   "source": [
    "%%sql\n",
    "select City, Country, Season, AVG(Rainfall)\n",
    "from CityWeatherSampleData\n",
    "Group by Rainfall\n",
    "having AVG(Rainfall) between 200 and 400;"
   ]
  },
  {
   "cell_type": "markdown",
   "id": "6091d73a",
   "metadata": {},
   "source": [
    "# Question 8 f\n",
    "# The city and country for which the average Fall temperature is above 20 degrees, in increasing temperature order"
   ]
  },
  {
   "cell_type": "code",
   "execution_count": 20,
   "id": "6f17024b",
   "metadata": {},
   "outputs": [
    {
     "name": "stdout",
     "output_type": "stream",
     "text": [
      " * sqlite:///WeatherData_CitySamples.db\n",
      "Done.\n"
     ]
    },
    {
     "data": {
      "text/html": [
       "<table>\n",
       "    <tr>\n",
       "        <th>City</th>\n",
       "        <th>Country</th>\n",
       "        <th>Temperature</th>\n",
       "    </tr>\n",
       "    <tr>\n",
       "        <td>Cairo</td>\n",
       "        <td>Egypt</td>\n",
       "        <td>20.7</td>\n",
       "    </tr>\n",
       "    <tr>\n",
       "        <td>Cairo</td>\n",
       "        <td>Egypt</td>\n",
       "        <td>22.2</td>\n",
       "    </tr>\n",
       "    <tr>\n",
       "        <td>Mumbai</td>\n",
       "        <td>India</td>\n",
       "        <td>24.8</td>\n",
       "    </tr>\n",
       "    <tr>\n",
       "        <td>Mumbai</td>\n",
       "        <td>India</td>\n",
       "        <td>27.6</td>\n",
       "    </tr>\n",
       "    <tr>\n",
       "        <td>Cairo</td>\n",
       "        <td>Egypt</td>\n",
       "        <td>27.7</td>\n",
       "    </tr>\n",
       "    <tr>\n",
       "        <td>Mumbai</td>\n",
       "        <td>India</td>\n",
       "        <td>27.9</td>\n",
       "    </tr>\n",
       "    <tr>\n",
       "        <td>Mumbai</td>\n",
       "        <td>India</td>\n",
       "        <td>28.4</td>\n",
       "    </tr>\n",
       "</table>"
      ],
      "text/plain": [
       "[('Cairo', 'Egypt', 20.7),\n",
       " ('Cairo', 'Egypt', 22.2),\n",
       " ('Mumbai', 'India', 24.8),\n",
       " ('Mumbai', 'India', 27.6),\n",
       " ('Cairo', 'Egypt', 27.7),\n",
       " ('Mumbai', 'India', 27.9),\n",
       " ('Mumbai', 'India', 28.4)]"
      ]
     },
     "execution_count": 20,
     "metadata": {},
     "output_type": "execute_result"
    }
   ],
   "source": [
    "%%sql\n",
    "select City, Country, Temperature \n",
    "from CityWeatherSampleData\n",
    "where Temperature>20\n",
    "order by Temperature asc"
   ]
  },
  {
   "cell_type": "markdown",
   "id": "dfce58b1",
   "metadata": {},
   "source": [
    "# Question 8 g\n",
    "# The total annual rainfall for Cairo"
   ]
  },
  {
   "cell_type": "code",
   "execution_count": 21,
   "id": "d3a4d170",
   "metadata": {},
   "outputs": [
    {
     "name": "stdout",
     "output_type": "stream",
     "text": [
      " * sqlite:///WeatherData_CitySamples.db\n",
      "Done.\n"
     ]
    },
    {
     "data": {
      "text/html": [
       "<table>\n",
       "    <tr>\n",
       "        <th>City</th>\n",
       "        <th>SUM(Rainfall)</th>\n",
       "    </tr>\n",
       "    <tr>\n",
       "        <td>Cairo</td>\n",
       "        <td>27.6</td>\n",
       "    </tr>\n",
       "</table>"
      ],
      "text/plain": [
       "[('Cairo', 27.6)]"
      ]
     },
     "execution_count": 21,
     "metadata": {},
     "output_type": "execute_result"
    }
   ],
   "source": [
    "%%sql\n",
    "select City, SUM(Rainfall)\n",
    "from CityWeatherSampleData\n",
    "where City='Cairo'"
   ]
  },
  {
   "cell_type": "markdown",
   "id": "7cd7088a",
   "metadata": {},
   "source": [
    "# Question 8 h\n",
    "# The total rainfall for each season"
   ]
  },
  {
   "cell_type": "code",
   "execution_count": 22,
   "id": "b531a308",
   "metadata": {},
   "outputs": [
    {
     "name": "stdout",
     "output_type": "stream",
     "text": [
      " * sqlite:///WeatherData_CitySamples.db\n",
      "Done.\n"
     ]
    },
    {
     "data": {
      "text/html": [
       "<table>\n",
       "    <tr>\n",
       "        <th>Season</th>\n",
       "        <th>SUM(Rainfall)</th>\n",
       "    </tr>\n",
       "    <tr>\n",
       "        <td>Fall</td>\n",
       "        <td>569.0</td>\n",
       "    </tr>\n",
       "    <tr>\n",
       "        <td>Spring</td>\n",
       "        <td>192.29999999999998</td>\n",
       "    </tr>\n",
       "    <tr>\n",
       "        <td>Summer</td>\n",
       "        <td>1706.5</td>\n",
       "    </tr>\n",
       "    <tr>\n",
       "        <td>Winter</td>\n",
       "        <td>230.1</td>\n",
       "    </tr>\n",
       "</table>"
      ],
      "text/plain": [
       "[('Fall', 569.0),\n",
       " ('Spring', 192.29999999999998),\n",
       " ('Summer', 1706.5),\n",
       " ('Winter', 230.1)]"
      ]
     },
     "execution_count": 22,
     "metadata": {},
     "output_type": "execute_result"
    }
   ],
   "source": [
    "%%sql\n",
    "select Season, SUM(Rainfall)\n",
    "from CityWeatherSampleData\n",
    "group by Season"
   ]
  },
  {
   "cell_type": "code",
   "execution_count": 23,
   "id": "63831fdf",
   "metadata": {},
   "outputs": [
    {
     "name": "stdout",
     "output_type": "stream",
     "text": [
      " * sqlite:///WeatherData_CitySamples.db\n",
      "Done.\n"
     ]
    },
    {
     "data": {
      "text/plain": [
       "[]"
      ]
     },
     "execution_count": 23,
     "metadata": {},
     "output_type": "execute_result"
    }
   ],
   "source": [
    "%%sql\n",
    "drop table CityWeatherSampleData"
   ]
  },
  {
   "cell_type": "markdown",
   "id": "aea1286e",
   "metadata": {},
   "source": [
    "# Question 9"
   ]
  },
  {
   "cell_type": "code",
   "execution_count": 41,
   "id": "71ff0d59",
   "metadata": {},
   "outputs": [
    {
     "name": "stdout",
     "output_type": "stream",
     "text": [
      "['THE', 'QUICK', 'BROWN', 'FOX', 'JUMPS', 'OVER', 'THE', 'LAZY', 'DOG']\n",
      "\n",
      "\n",
      "['the', 'quick', 'brown', 'fox', 'jumps', 'over', 'the', 'lazy', 'dog']\n",
      "\n",
      "\n",
      "[3, 5, 5, 3, 5, 4, 3, 4, 3]\n",
      "[['THE', 'the', 3], ['QUICK', 'quick', 5], ['BROWN', 'brown', 5], ['FOX', 'fox', 3], ['JUMPS', 'jumps', 5], ['OVER', 'over', 4], ['THE', 'the', 3], ['LAZY', 'lazy', 4], ['DOG', 'dog', 3]]\n",
      "\n",
      "\n",
      "['quick', 'brown', 'jumps', 'over', 'lazy']\n"
     ]
    }
   ],
   "source": [
    "words = ['The', 'quick', 'brown', 'fox', 'jumps', 'over', 'the', 'lazy', 'dog']\n",
    "\n",
    "# Change words in array to All CAPS(Uppercase)\n",
    "wordsUcase = [letter.upper() for letter in words]\n",
    "print(wordsUcase)\n",
    "print(\"\\n\")\n",
    "\n",
    "#Change words in array to all lowercase\n",
    "wordsLcase = [letter.lower() for letter in words]\n",
    "print(wordsLcase)\n",
    "print(\"\\n\")\n",
    "\n",
    "\n",
    "#Gives the word length of each word in array\n",
    "word_length = []\n",
    "for word in words:\n",
    "    word_length.append(len(word))\n",
    "print(word_length)\n",
    "\n",
    "\n",
    "#Lists containing each word as uppercase,lowercase and the length\n",
    "initializeCounterValue = 0\n",
    "singleListArray = []\n",
    "    \n",
    "for h in words:\n",
    "    singleListArray.append(wordsUcase[initializeCounterValue])\n",
    "    singleListArray.append(wordsLcase[initializeCounterValue])\n",
    "    singleListArray.append(word_length[initializeCounterValue])\n",
    "    initializeCounterValue = initializeCounterValue + 1\n",
    "\n",
    "delimiterVariableLimit = 3\n",
    "resultArray = [singleListArray[additor:additor+delimiterVariableLimit] for additor in range(0, len(singleListArray), delimiterVariableLimit)]\n",
    "print(resultArray)\n",
    "print(\"\\n\")\n",
    "\n",
    "#List of words of 4 characters or longer\n",
    "\n",
    "def wordString(m, str):    \n",
    "    string = []     \n",
    "    text = str.split(\" \")     \n",
    "    for x in text:         \n",
    "        if len(x) >= m:            \n",
    "            string.append(x)             \n",
    "    return string\n",
    "    \n",
    "result_list = [''.join([str(c) for c in lst]) for lst in words]\n",
    "result_string = ' '.join(result_list)\n",
    "requiredCharacterLength = 4\n",
    "print(wordString(requiredCharacterLength, result_string))\n"
   ]
  }
 ],
 "metadata": {
  "kernelspec": {
   "display_name": "Python 3 (ipykernel)",
   "language": "python",
   "name": "python3"
  },
  "language_info": {
   "codemirror_mode": {
    "name": "ipython",
    "version": 3
   },
   "file_extension": ".py",
   "mimetype": "text/x-python",
   "name": "python",
   "nbconvert_exporter": "python",
   "pygments_lexer": "ipython3",
   "version": "3.9.12"
  }
 },
 "nbformat": 4,
 "nbformat_minor": 5
}
